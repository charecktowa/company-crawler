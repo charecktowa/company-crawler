{
 "cells": [
  {
   "cell_type": "code",
   "execution_count": 1,
   "metadata": {},
   "outputs": [
    {
     "data": {
      "text/html": [
       "<div>\n",
       "<style scoped>\n",
       "    .dataframe tbody tr th:only-of-type {\n",
       "        vertical-align: middle;\n",
       "    }\n",
       "\n",
       "    .dataframe tbody tr th {\n",
       "        vertical-align: top;\n",
       "    }\n",
       "\n",
       "    .dataframe thead th {\n",
       "        text-align: right;\n",
       "    }\n",
       "</style>\n",
       "<table border=\"1\" class=\"dataframe\">\n",
       "  <thead>\n",
       "    <tr style=\"text-align: right;\">\n",
       "      <th></th>\n",
       "      <th>Identifier (RIC)</th>\n",
       "      <th>Company Name</th>\n",
       "      <th>GICS Industry Name</th>\n",
       "      <th>Web Link to Home Page</th>\n",
       "    </tr>\n",
       "  </thead>\n",
       "  <tbody>\n",
       "    <tr>\n",
       "      <th>0</th>\n",
       "      <td>ENZN.PK</td>\n",
       "      <td>Enzon Pharmaceuticals Inc</td>\n",
       "      <td>Biotechnology</td>\n",
       "      <td>https://enzon.com/</td>\n",
       "    </tr>\n",
       "    <tr>\n",
       "      <th>1</th>\n",
       "      <td>TUB.BR</td>\n",
       "      <td>Financiere de Tubize SA</td>\n",
       "      <td>Pharmaceuticals</td>\n",
       "      <td>https://www.financiere-tubize.be/</td>\n",
       "    </tr>\n",
       "    <tr>\n",
       "      <th>2</th>\n",
       "      <td>RECI.MI</td>\n",
       "      <td>Recordati Industria Chimica e Farmaceutica SpA</td>\n",
       "      <td>Pharmaceuticals</td>\n",
       "      <td>https://recordati.com/</td>\n",
       "    </tr>\n",
       "    <tr>\n",
       "      <th>3</th>\n",
       "      <td>UCB.BR</td>\n",
       "      <td>Ucb SA</td>\n",
       "      <td>Pharmaceuticals</td>\n",
       "      <td>https://www.ucb.com</td>\n",
       "    </tr>\n",
       "    <tr>\n",
       "      <th>4</th>\n",
       "      <td>BAYGn.DE</td>\n",
       "      <td>Bayer AG</td>\n",
       "      <td>Pharmaceuticals</td>\n",
       "      <td>https://www.bayer.com/</td>\n",
       "    </tr>\n",
       "  </tbody>\n",
       "</table>\n",
       "</div>"
      ],
      "text/plain": [
       "  Identifier (RIC)                                    Company Name  \\\n",
       "0          ENZN.PK                       Enzon Pharmaceuticals Inc   \n",
       "1           TUB.BR                         Financiere de Tubize SA   \n",
       "2          RECI.MI  Recordati Industria Chimica e Farmaceutica SpA   \n",
       "3           UCB.BR                                          Ucb SA   \n",
       "4         BAYGn.DE                                        Bayer AG   \n",
       "\n",
       "  GICS Industry Name              Web Link to Home Page  \n",
       "0      Biotechnology                 https://enzon.com/  \n",
       "1    Pharmaceuticals  https://www.financiere-tubize.be/  \n",
       "2    Pharmaceuticals             https://recordati.com/  \n",
       "3    Pharmaceuticals                https://www.ucb.com  \n",
       "4    Pharmaceuticals             https://www.bayer.com/  "
      ]
     },
     "execution_count": 1,
     "metadata": {},
     "output_type": "execute_result"
    }
   ],
   "source": [
    "import pandas as pd\n",
    "\n",
    "df = pd.read_excel(\"./data/webs pharma.xlsx\")\n",
    "df.head(5)"
   ]
  },
  {
   "cell_type": "code",
   "execution_count": 2,
   "metadata": {},
   "outputs": [
    {
     "name": "stdout",
     "output_type": "stream",
     "text": [
      "True\n"
     ]
    }
   ],
   "source": [
    "# Check if 'Identifier (RIC)' is unique\n",
    "print(df['Identifier (RIC)'].is_unique)"
   ]
  },
  {
   "cell_type": "code",
   "execution_count": 5,
   "metadata": {},
   "outputs": [
    {
     "name": "stdout",
     "output_type": "stream",
     "text": [
      "[('companies',)]\n",
      "Contents of table companies:\n",
      "\n",
      "\n"
     ]
    }
   ],
   "source": [
    "import sqlite3\n",
    "\n",
    "# Connect to the SQLite database\n",
    "conn = sqlite3.connect('./data/database.db')\n",
    "\n",
    "# Create a cursor object\n",
    "cursor = conn.cursor()\n",
    "\n",
    "# Fetch the list of tables\n",
    "cursor.execute(\"SELECT name FROM sqlite_master WHERE type='table';\")\n",
    "tables = cursor.fetchall()\n",
    "\n",
    "# Print the list of tables\n",
    "print(tables)\n",
    "\n",
    "# Close the connection\n",
    "conn.close()\n",
    "\n",
    "# Connect to the SQLite database again\n",
    "conn = sqlite3.connect('./data/database.db')\n",
    "cursor = conn.cursor()\n",
    "\n",
    "# Iterate through the list of tables and print their content\n",
    "for table_name in tables:\n",
    "    table_name = table_name[0]\n",
    "    print(f\"Contents of table {table_name}:\")\n",
    "    cursor.execute(f\"SELECT * FROM {table_name}\")\n",
    "    rows = cursor.fetchall()\n",
    "    for row in rows:\n",
    "        print(row)\n",
    "    print(\"\\n\")\n",
    "\n",
    "# Close the connection\n",
    "conn.close()"
   ]
  }
 ],
 "metadata": {
  "kernelspec": {
   "display_name": ".env",
   "language": "python",
   "name": "python3"
  },
  "language_info": {
   "codemirror_mode": {
    "name": "ipython",
    "version": 3
   },
   "file_extension": ".py",
   "mimetype": "text/x-python",
   "name": "python",
   "nbconvert_exporter": "python",
   "pygments_lexer": "ipython3",
   "version": "3.12.3"
  }
 },
 "nbformat": 4,
 "nbformat_minor": 2
}
